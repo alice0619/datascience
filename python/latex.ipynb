{
 "cells": [
  {
   "cell_type": "markdown",
   "metadata": {},
   "source": [
    "# Jupyter NotebookとLaTexの記述方法"
   ]
  },
  {
   "cell_type": "markdown",
   "metadata": {},
   "source": [
    "## よく使うJupyter Notebook ショートカットキー\n",
    "- `ctrl` + `return` (Windows), `command` + `return` (Mac): 現在のセルを実行\n",
    "- `shift` + `return`: 現在のセルを実行し、次のセルへ移動\n",
    "- `esc`: コマンドモード（セルの追加や削除などのコードセル自体を操作できる状態）⇔ エディットモード（編集、コードの入力などができる状態）\n",
    "- `a`: 現在のセルの上に新たなセルを追加\n",
    "- `b`: 現在のセルの下に新たなセルを追加\n",
    "- `dd`: セルを削除\n",
    "- `m`: セルをマークダウン記述にする\n",
    "- `y`: セルをコード記述にする"
   ]
  },
  {
   "cell_type": "markdown",
   "metadata": {},
   "source": [
    "## LaTex記法\n",
    "数式などを記述したい場合はLaTex記法に従う。基本的に`$`か`$$`で数式を囲む。   \n",
    "**(例)**  \n",
    "* \\\\$ f(x) = 2x \\\\$ → $ f(x) = 2x $.  \n",
    "* \\\\$\\\\$ f(x) = 2x \\\\$\\\\$ → $$ f(x) = 2x $$ (次の行の真ん中に記述される).\n",
    "\n",
    "||出力|LaTex|\n",
    "|:-|:-|:-|\n",
    "|上付き文字|$$x^{a+b}$$|`x^{a + b}`|\n",
    "|下付き文字|$$x_{a+b}$$|`x_{a + b}`|\n",
    "|分数|$$\\frac{a}{b}$$|`\\frac{a}{b}`|\n",
    "|根号|$$\\sqrt{a+b}$$|`\\sqrt{a + b}`|\n",
    "|特殊文字|$$\\{ \\alpha, \\beta, \\gamma, \\pi, \\mu, \\sigma \\}$$|`\\\\{ \\alpha, \\beta, \\gamma, \\pi, \\mu, \\sigma \\\\`}|\n",
    "|総和(シグマ)|$$\\sum^{100}_{x = 1}$$|`\\sum^{100}_{x = 1} (上付き、下付きは逆の順番でもOK)`|\n",
    "|微分|$$\\frac{\\partial}{\\partial x}$$|`\\frac{\\partial}{\\partial x}`|\n",
    "|行列|$$\\begin{bmatrix} 2x+4y \\\\ 4x+6y^2 \\\\ \\end{bmatrix}$$|`\\begin{bmatrix} 2x + 4y \\\\ 4x + 6y^2 \\\\ \\end{bmatrix}`|\n",
    "\n",
    "[LaTex チートシート(日本語版)](https://wtsnjp.com/pdf/platexsheet.pdf)  \n",
    "[英語版](https://wch.github.io/latexsheet/)"
   ]
  },
  {
   "cell_type": "markdown",
   "metadata": {},
   "source": [
    "## 練習問題\n",
    "総和の公式:\n",
    "- $\\sum^{n}_{i=1} a_i = \\sum^{n}_{k=1} a_k$\n",
    "- $\\sum^{n}_{i=1} (a_i + b_i) = \\sum^{n}_{i=1} a_i + \\sum^{n}_{i=1} b_i$\n",
    "- $\\sum^{n}_{i=1} d = nd$\n",
    "- $\\sum^{n}_{i=1} (ca_i + d) = c \\sum^{n}_{i=1} a_i + nd$\n",
    "\n",
    "これらを用いて次のことを証明する。\n",
    "1. $x_1, x_2, …, x_n$という数字の並びがある時、これらの数字の平均(mean)の求め方は、$\\mu = \\frac{1}{n} \\sum^{n}_{i=1} x_i$  \n",
    "(例: 1, 2, 3, 4, 5の平均は$\\mu = \\frac{1}{5} \\sum^{5}_{i=1} x_i = \\frac{1+2+3+4+5}{5} = 3$).  \n",
    "また、それぞれの偏差(deviation)の求め方は、$x_i - \\mu$  \n",
    "(例: 1 - 3 = -2, 2 - 3 = -1, ...).   \n",
    "偏差の総和は0であることを証明せよ(i.e. $\\sum^{n}_{i=1} (x_i - \\mu) = 0$)。\n",
    "\n",
    "<br><br><br>\n",
    "\n",
    "**(解答)**.  \n",
    "$$ \\sum^{n}_{i=1} (x_i - \\mu) $$\n",
    "$$ = (x_1 - \\mu) + (x_2 - \\mu) + \\cdots + (x_n - \\mu) $$\n",
    "$$ = (x_1 + x_2 + \\cdots + x_n) - n\\mu $$\n",
    "$\\mu = \\frac{1}{n} \\sum^{n}_{i=1} x_i $より、\n",
    "$$ = (x_1 + x_2 + \\cdots + x_n) - n \\times \\frac{1}{n} \\sum^{n}_{i=1} x_i $$\n",
    "$$ = (x_1 + x_2 + \\cdots + x_n) - (x_1 + x_2 + \\cdots + x_n) $$\n",
    "$$ = 0 $$"
   ]
  },
  {
   "cell_type": "markdown",
   "metadata": {},
   "source": [
    "2. 分散$\\sigma^2$(variance)の定義は「平均からの偏差の二乗の平均」である。この分散を$\\frac{1}{2}$乗したものが標準偏差$\\sigma$(standard deviation)となる。分散と標準偏差の公式をLaTexで記述せよ。\n",
    "\n",
    "<br><br><br>\n",
    "\n",
    "**(解答)**.  \n",
    "分散: `\\sigma^2 = \\frac{1}{n} \\sum^{n}_{i=1} (x_i - \\mu)^2`   ($ \\sigma^2 = \\frac{1}{n} \\sum^{n}_{i=1} (x_i - \\mu)^2 $)  \n",
    "標準偏差: `\\sigma = \\sqrt{\\frac{1}{n} \\sum^{n}_{i=1} (x_i - \\mu)^2}`   ($ \\sigma = \\sqrt{\\frac{1}{n} \\sum^{n}_{i=1} (x_i - \\mu)^2} $)"
   ]
  },
  {
   "cell_type": "markdown",
   "metadata": {},
   "source": [
    "3. とある数字のリストがあり、そのうちの一つ$x_i$が何であるのかを求めたいとする。しかし、インデックス$i$が何であるのかわからないため$x_i$が何であるのかはわからない。そこで、その求めたい数字$x_i$を仮に$\\mu$とおいたとする。この時、実際の数字$x_i$との誤差は$x_i - \\mu$で表す事ができる。この$\\mu$がこの数字のリストの平均値であった場合、$x_i - \\mu$は平均からの偏差であると言える。   \n",
    "平均二乗誤差(Mean Squared Error)とは、平均からの偏差の二乗の平均、すなわち分散に当たる(i.e. $MSE(\\mu) = \\sigma^2$)。$\\mu = c$の時、この$MSE(c)$の式をLaTexで表記せよ。\n",
    "\n",
    "<br><br><br>\n",
    "\n",
    "**(解答)**.   \n",
    "$$ MSE(c) = \\frac{1}{n} \\sum^{n}_{i=1} (x_i - c)^2 $$"
   ]
  },
  {
   "cell_type": "markdown",
   "metadata": {},
   "source": [
    "4. 一般に、平均二乗誤差は、平均からの偏差が一番誤差が少ないとされる(i.e. $MSE(\\mu) < MSE(c)$ for all $c \\neq \\mu$)。このことを証明せよ。\n",
    "\n",
    "ヒント:  \n",
    "- $MSE(c)$から始め、誤差$x_i - c$を$x_i - c = (x_i - \\mu) + (\\mu + c)$とおいてみる\n",
    "\n",
    "<br><br><br>\n",
    "\n",
    "**(解答)**.   \n",
    "$$ MSE(c) = \\frac{1}{n} \\sum^{n}_{i=1} (x_i - c)^2 $$\n",
    "$$ = \\frac{1}{n} \\sum^{n}_{i=1} \\{ (x_i - \\mu) + (\\mu - c) \\}^2 $$\n",
    "$$ = \\frac{1}{n} \\sum^{n}_{i=1} \\{ (x_i - \\mu)^2 + 2(x_i - \\mu)(\\mu - c) + (\\mu - c)^2 \\} $$\n",
    "$$ = \\frac{1}{n} \\sum^{n}_{i=1} (x_i - \\mu)^2 + \\frac{2}{n} \\sum^{n}_{i=1} (x_i - \\mu)(\\mu - c) + \\frac{1}{n} \\sum^{n}_{i=1} (\\mu - c)^2 $$\n",
    "$$ = MSE(\\mu) + \\frac{2}{n} \\sum^{n}_{i=1} (x_i - \\mu)(\\mu - c) + (\\mu - c)^2 $$\n",
    "\n",
    "<div style=\"text-align: center;\">\n",
    "$\\sum^{n}_{i=1} (x_i - \\mu) = 0$より、\n",
    "    \n",
    "$$ MSE(c) = MSE(\\mu) + 0 + (\\mu - c)^2 $$\n",
    "\n",
    "<div style=\"text-align: center;\">\n",
    "$ (\\mu - c)^2 > 0$なので、\n",
    "    \n",
    "$$ MSE(c) - MSE(\\mu) = (\\mu - c)^2 > 0 $$\n",
    "$$ \\therefore MSE(c) - MSE(\\mu) > 0 $$\n",
    "$$ \\therefore MSE(\\mu) < MSE(c) $$"
   ]
  },
  {
   "cell_type": "code",
   "execution_count": null,
   "metadata": {},
   "outputs": [],
   "source": []
  }
 ],
 "metadata": {
  "kernelspec": {
   "display_name": "Python 3",
   "language": "python",
   "name": "python3"
  },
  "language_info": {
   "codemirror_mode": {
    "name": "ipython",
    "version": 3
   },
   "file_extension": ".py",
   "mimetype": "text/x-python",
   "name": "python",
   "nbconvert_exporter": "python",
   "pygments_lexer": "ipython3",
   "version": "3.7.4"
  }
 },
 "nbformat": 4,
 "nbformat_minor": 2
}
